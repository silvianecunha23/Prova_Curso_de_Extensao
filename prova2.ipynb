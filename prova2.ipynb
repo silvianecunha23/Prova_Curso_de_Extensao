{
 "cells": [
  {
   "attachments": {},
   "cell_type": "markdown",
   "metadata": {},
   "source": [
    "# **Prova 2 - Curso de Extensão: Introdução à Teoria das Probabilidades**\n",
    "\n",
    "- Professor: Francisco A. Rodrigues  \n",
    "\n",
    "- Instituto de Ciências Matemáticas e de Computação (ICMC/USP)\n",
    "\n",
    "- Ângela Silviane Moura Cunha\n",
    "\n",
    "- 06/02/2023"
   ]
  },
  {
   "attachments": {},
   "cell_type": "markdown",
   "metadata": {},
   "source": [
    "**Questão 1:** \n",
    "\n",
    "Seja a variável aleatória com distribuição de probabilidade: $P(X=10)=0,4; P(X=50)=0,2; P(X=100)=0,4$. Uma amostra com $100$ observações é sorteada. Qual é a probabilidade de que a média amostral ser menor do que $60$?"
   ]
  },
  {
   "attachments": {},
   "cell_type": "markdown",
   "metadata": {},
   "source": [
    "- Esperança:  \n",
    "\n",
    "$$E[X] = \\mu = \\sum_{i=1}^{n} X_iP_i$$\n",
    "$$E[X] = 10 \\cdot 0.4 + 50 \\cdot 0.2 + 100 \\cdot 0.4=54$$\n",
    "\n",
    "- Variância:  \n",
    "\n",
    "$$V(X) = E[X^2] - E[X]^2$$\n",
    "$$V(X) = \\sigma^2 = \\sum_{i=1}^{n} \\left(X_i^2P_i \\right) - E[X]^2$$\n",
    "$$V(X) = 10^2 \\cdot 0.4 + 50^2 \\cdot 0.2 + 100^2 \\cdot 0.4 - 54^2 = 1624$$\n",
    "\n",
    "- Probabilidade da média ser menor que 60:  \n",
    "\n",
    "Transformando $\\bar{X}$ para distribuição $Z$:  \n",
    "\n",
    "$$Z={ { \\bar{X} - \\mu } \\over { \\sigma \\over \\sqrt{n} } } \\sim \\mathcal{N}(\\mu=0,\\sigma^2=1)$$  \n",
    "\n",
    "temos:  \n",
    "\n",
    "$$P( \\bar{X}<60 )=P\\left({ { \\bar{X} - \\mu } \\over { \\sigma \\over \\sqrt{n} } } < { { 60 - \\mu } \\over { \\sigma \\over \\sqrt{n} } } \\right)$$  \n",
    "\n",
    "$$P( \\bar{X}<60 )=P\\left(Z < { { 60 - \\mu } \\over { \\sigma \\over \\sqrt{n} } } \\right)$$  \n",
    "\n",
    "$$P( \\bar{X}<60 )=P\\left(Z < 1.4889 \\right)=0.9317398561772103$$  "
   ]
  },
  {
   "cell_type": "code",
   "execution_count": 1,
   "metadata": {},
   "outputs": [
    {
     "name": "stdout",
     "output_type": "stream",
     "text": [
      "Esperança: 54.0 Variância: 1624.0\n",
      "Probabilidade da média ser menor que 60: 0.9317398561772103, (Z=1.4889) \n"
     ]
    }
   ],
   "source": [
    "import scipy.stats as st\n",
    "\n",
    "# Calcular a esperança e variância:\n",
    "X = [10, 50, 100]\n",
    "P = [0.4, 0.2, 0.4]\n",
    "E = 0\n",
    "E2 = 0\n",
    "for i in range(0, len(X)):\n",
    "    E = E + X[i]*P[i]\n",
    "    E2 = E2 + (X[i]**2)*P[i]\n",
    "V = E2-E**2\n",
    "print(\"Esperança:\", E, \"Variância:\",V)\n",
    "\n",
    "# Probabilidade da média ser menor que 60: mu = E, sigma2 = V\n",
    "n = 100\n",
    "Z = (60 - E) / (V**0.5 / n**0.5)\n",
    "Prob = st.norm.cdf(Z)\n",
    "\n",
    "print(\"Probabilidade da média ser menor que 60: {}, (Z={:.4f}) \".format(Prob,Z))"
   ]
  },
  {
   "attachments": {},
   "cell_type": "markdown",
   "metadata": {},
   "source": [
    "- Simulação de amostras de tamanho $n=100$ para verificação da probabilidade da média da amostra ser menor que 60:"
   ]
  },
  {
   "cell_type": "code",
   "execution_count": 2,
   "metadata": {},
   "outputs": [
    {
     "data": {
      "image/png": "[encoded data removed]",
      "text/plain": [
       "<Figure size 800x600 with 1 Axes>"
      ]
     },
     "metadata": {},
     "output_type": "display_data"
    },
    {
     "name": "stdout",
     "output_type": "stream",
     "text": [
      "Média das amostras simuladas: 53.9708\n",
      "Média da população: 54.0000\n",
      "Probabilidade simulada: P(X < 60) = 0.9322\n",
      "Valor teórico: P(X < 60) = 0.9317\n"
     ]
    }
   ],
   "source": [
    "import numpy as np\n",
    "import matplotlib.pyplot as plt\n",
    "\n",
    "ns = 10000 # Número de simulações\n",
    "vx = [] # Array para armazenar a média amostral\n",
    "for s in range(0, ns):\n",
    "    A = np.random.choice(X, n, p=P)\n",
    "    vx.append(np.mean(A))\n",
    "nmenor = 0\n",
    "\n",
    "for i in range(0, len(vx)):\n",
    "    if(vx[i] < 60):\n",
    "        nmenor = nmenor + 1\n",
    "nmenor = nmenor/len(vx)\n",
    "\n",
    "plt.figure(figsize=(8,6))\n",
    "plt.hist(x=vx, bins='auto',color='#0504aa', alpha=0.7, rwidth=0.85, density = True)\n",
    "plt.xlabel(r'$\\bar{X}$', fontsize=20)\n",
    "plt.ylabel(r'$P(\\bar{X})$', fontsize=20)\n",
    "plt.show(True)\n",
    "\n",
    "print(\"Média das amostras simuladas: {:.4f}\".format(np.mean(vx)))\n",
    "print(\"Média da população: {:.4f}\".format(E))\n",
    "\n",
    "print(\"Probabilidade simulada: P(X < 60) = {:.4f}\".format(nmenor))\n",
    "print(\"Valor teórico: P(X < 60) = {:.4f}\".format(Prob))"
   ]
  },
  {
   "attachments": {},
   "cell_type": "markdown",
   "metadata": {},
   "source": [
    "**Questão 2:** \n",
    "\n",
    "Seja a função densidade de probabilidade conjunta de $(X,Y)$.  \n",
    "  \n",
    "$f(x,y) = $ \n",
    "\\begin{cases}\n",
    "\\frac{e^{-x/y}e^{-y}}{y}, & 0 < x < \\infty, 0 < y < \\infty \\\\   \n",
    "0, & caso \\: contrario.\n",
    "\\end{cases}   \n",
    "\n",
    "Calcule $E[X|Y = y]$."
   ]
  },
  {
   "attachments": {},
   "cell_type": "markdown",
   "metadata": {},
   "source": [
    "A esperança condicional de uma variável aleatória $(X,Y)$ é definida por:  \n",
    "\n",
    "$$E[X|Y=y] = \\int_{-\\infty}^{\\infty}{xf(x|y)dx}$$  \n",
    "\n",
    "$$f(x|y) = { f(x,y) \\over f_Y(y) }$$  \n",
    "  \n",
    "Então as distribuições marginais de $X$ e $Y$ são:\n",
    "  \n",
    "$$f_X(x) = g(x) = \\int_{-\\infty}^{\\infty}{f(x,y)dy}$$  \n",
    "  \n",
    "$$f_Y(y) = h(y) = \\int_{-\\infty}^{\\infty}{f(x,y)dx}$$\n",
    "\n",
    "Então $E[X|Y=y]$ será:  \n",
    "  \n",
    "$$E[X|Y=y] = \\int_{0}^{\\infty} x { f(x,y) \\over f_Y(y) }dx$$\n",
    "\n",
    "$$E[X|Y=y] = \\int_{0}^{\\infty} x { { e^{-x/y}e^{-y} \\over y } \\over \\int_{0}^{\\infty}{ { e^{-x/y}e^{-y} \\over y } dx} }dx = y$$  \n",
    "  \n",
    "Resolvendo pelo Wolfram:\n",
    "  \n",
    "> $E[X|Y=y]$: Integrate[xDivide[Divide[Power[e,-Divide[x,y]]Power[e,-y],y],Integrate[Divide[Power[e,-Divide[x,y]]Power[e,-y],y],{x,0,∞}]],{x,0,∞}]  \n"
   ]
  },
  {
   "attachments": {},
   "cell_type": "markdown",
   "metadata": {},
   "source": [
    "**Questão 3:** \n",
    "\n",
    "Seja a variável aleatória bidimensional $(X,Y)$ com função densidade de probabilidade conjunta:.  \n",
    "  \n",
    "$$\n",
    "f(x,y) = \n",
    "   \\begin{cases}\n",
    "      { c(xy+e^{-x}) } & \\mbox{ se $0 \\le x \\le 1, \\quad 0 \\le y \\le 1$ }\\\\  \n",
    "      {0} & \\mbox{ caso contrário }\n",
    "   \\end{cases}\n",
    "$$  \n",
    "\n",
    "Determine o valor da constante $c$ e calcule $P(Y < 1/4)$."
   ]
  },
  {
   "attachments": {},
   "cell_type": "markdown",
   "metadata": {},
   "source": [
    "a) Valor da constante $c$:  \n",
    "  \n",
    "$$\\int_{0}^{1}\\int_{0}^{1}c(xy+e^{-x})dydx = 1$$  \n",
    "  \n",
    "$$c\\int_{0}^{1}\\int_{0}^{1}(xy+e^{-x})dydx = 1$$  \n",
    "  \n",
    "$$c={1 \\over \\int_{0}^{1}\\int_{0}^{1}(xy+e^{-x})dydx } = {1 \\over \\left({5 \\over 4} - {1 \\over e} \\right)} = 1.1336318941800703$$  \n",
    "  \n",
    "  Resolvendo pelo Wolfram:\n",
    "\n",
    "  > $c$: Divide[1,Integrate[\\(40)xy+exp\\(40)-x\\(41)\\(41),{y,0,1},{x,0,1}]]\n",
    "\n",
    "b) Probabilidade $P(Y < 1/4)$:  \n",
    "  \n",
    "$$P(Y<1/4) = \\int_{0}^{1}\\int_{0}^{1/4}f(x,y)dydx$$\n",
    "  \n",
    "$$P(Y<1/4) = \\int_{0}^{1}\\int_{0}^{1/4}c(xy+e^{-x})dydx$$  \n",
    "  \n",
    "$$P(Y<1/4) = c\\int_{0}^{1}\\int_{0}^{1/4}(xy+e^{-x})dydx = c\\left({17 \\over 64} - {1 \\over 4e} \\right)=0.1968610049603092$$\n",
    "\n",
    "Resolvendo pelo Wolfram:\n",
    "\n",
    "  > $P(Y<1/4)$: cIntegrate[\\(40)xy+exp\\(40)-x\\(41)\\(41),{y,0,Divide[1,4]},{x,0,1}]  "
   ]
  },
  {
   "cell_type": "code",
   "execution_count": 3,
   "metadata": {},
   "outputs": [
    {
     "name": "stdout",
     "output_type": "stream",
     "text": [
      "c = 1.1336318941800703\n",
      "P(1<1/4) = 0.1968610049603092\n"
     ]
    }
   ],
   "source": [
    "import math \n",
    "\n",
    "# a) valor de c\n",
    "c = 1/(5/4-1/math.exp(1))\n",
    "print(\"c = {}\".format(c))\n",
    "\n",
    "# b) valor de P(Y<1/4)\n",
    "P = c*(17/64-1/(4*math.exp(1)))\n",
    "print(\"P(1<1/4) = {}\".format(P))"
   ]
  }
 ],
 "metadata": {
  "kernelspec": {
   "display_name": "base",
   "language": "python",
   "name": "python3"
  },
  "language_info": {
   "codemirror_mode": {
    "name": "ipython",
    "version": 3
   },
   "file_extension": ".py",
   "mimetype": "text/x-python",
   "name": "python",
   "nbconvert_exporter": "python",
   "pygments_lexer": "ipython3",
   "version": "3.9.13"
  },
  "orig_nbformat": 4,
  "vscode": {
   "interpreter": {
    "hash": "836a17164be2d590fd74263af58090dad9ab01a479d389a04c38658626e07a4a"
   }
  }
 },
 "nbformat": 4,
 "nbformat_minor": 2
}
